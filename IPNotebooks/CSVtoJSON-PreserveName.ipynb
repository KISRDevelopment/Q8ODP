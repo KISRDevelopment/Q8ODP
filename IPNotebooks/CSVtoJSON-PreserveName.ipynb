{
 "metadata": {
  "name": "",
  "signature": "sha256:4327fc2e9325dd1a83b8915f3668316d5427e4a9d5bd9070014ddfa56b82a7f1"
 },
 "nbformat": 3,
 "nbformat_minor": 0,
 "worksheets": [
  {
   "cells": [
    {
     "cell_type": "code",
     "collapsed": false,
     "input": [
      "import pandas as pd\n",
      "from pandas import DataFrame"
     ],
     "language": "python",
     "metadata": {},
     "outputs": [
      {
       "output_type": "stream",
       "stream": "stderr",
       "text": [
        "/Users/aziz/Envs/DataAnalysis/lib/python2.7/site-packages/pandas/io/excel.py:626: UserWarning: Installed openpyxl is not supported at this time. Use >=1.6.1 and <2.0.0.\n",
        "  .format(openpyxl_compat.start_ver, openpyxl_compat.stop_ver))\n"
       ]
      }
     ],
     "prompt_number": 1
    },
    {
     "cell_type": "code",
     "collapsed": false,
     "input": [
      "filename = 'ANNUAL_STATISTICAL_BULLETIN_OF_COMMUNICATIONS_&_INFORMATION_TECHNOLOGY_TABLE'\n",
      "csvpath = \"\".join(['../DataSets/CSV/', filename, '.csv'])\n",
      "jsonpath = \"\".join(['../DataSets/JSON/', filename, '.json'])"
     ],
     "language": "python",
     "metadata": {},
     "outputs": [],
     "prompt_number": 17
    },
    {
     "cell_type": "code",
     "collapsed": false,
     "input": [
      "df = pd.read_csv(csvpath)"
     ],
     "language": "python",
     "metadata": {},
     "outputs": [],
     "prompt_number": 23
    },
    {
     "cell_type": "code",
     "collapsed": false,
     "input": [
      "df.to_json(jsonpath)"
     ],
     "language": "python",
     "metadata": {},
     "outputs": [],
     "prompt_number": 24
    },
    {
     "cell_type": "code",
     "collapsed": false,
     "input": [],
     "language": "python",
     "metadata": {},
     "outputs": []
    }
   ],
   "metadata": {}
  }
 ]
}
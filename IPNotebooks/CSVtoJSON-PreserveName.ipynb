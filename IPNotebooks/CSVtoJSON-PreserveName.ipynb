{
 "metadata": {
  "name": "",
  "signature": "sha256:83ab0794a5df09be1ed740938682f1c25332074612ca5dc80dd2977ba87b0fec"
 },
 "nbformat": 3,
 "nbformat_minor": 0,
 "worksheets": [
  {
   "cells": [
    {
     "cell_type": "code",
     "collapsed": false,
     "input": [
      "import pandas as pd\n",
      "from pandas import DataFrame"
     ],
     "language": "python",
     "metadata": {},
     "outputs": [
      {
       "output_type": "stream",
       "stream": "stderr",
       "text": [
        "/Users/aziz/Envs/DataAnalysis/lib/python2.7/site-packages/pandas/io/excel.py:626: UserWarning: Installed openpyxl is not supported at this time. Use >=1.6.1 and <2.0.0.\n",
        "  .format(openpyxl_compat.start_ver, openpyxl_compat.stop_ver))\n"
       ]
      }
     ],
     "prompt_number": 1
    },
    {
     "cell_type": "code",
     "collapsed": false,
     "input": [
      "filename = 'ANNUAL_STATISTICAL_BULLETIN_OF_COMMUNICATIONS_&_INFORMATION_TECHNOLOGY_TABLE'\n",
      "csvpath = \"\".join(['../DataSets/CSV/', filename, '.csv'])\n",
      "jsonpath = \"\".join(['../DataSets/JSON/', filename, '.json'])"
     ],
     "language": "python",
     "metadata": {},
     "outputs": [],
     "prompt_number": 2
    },
    {
     "cell_type": "code",
     "collapsed": false,
     "input": [
      "df = pd.read_csv(csvpath)\n",
      "df"
     ],
     "language": "python",
     "metadata": {},
     "outputs": [
      {
       "html": [
        "<div style=\"max-height:1000px;max-width:1500px;overflow:auto;\">\n",
        "<table border=\"1\" class=\"dataframe\">\n",
        "  <thead>\n",
        "    <tr style=\"text-align: right;\">\n",
        "      <th></th>\n",
        "      <th>Financial Year</th>\n",
        "      <th>Revenue Amount (in KWD)</th>\n",
        "    </tr>\n",
        "  </thead>\n",
        "  <tbody>\n",
        "    <tr>\n",
        "      <th>0 </th>\n",
        "      <td> 2002/2003</td>\n",
        "      <td>  141,631,309.476</td>\n",
        "    </tr>\n",
        "    <tr>\n",
        "      <th>1 </th>\n",
        "      <td> 2003/2004</td>\n",
        "      <td>  179,723,614.949</td>\n",
        "    </tr>\n",
        "    <tr>\n",
        "      <th>2 </th>\n",
        "      <td> 2004/2005</td>\n",
        "      <td> 159,1 15,527.803</td>\n",
        "    </tr>\n",
        "    <tr>\n",
        "      <th>3 </th>\n",
        "      <td> 2005/2006</td>\n",
        "      <td>  146,109,745.447</td>\n",
        "    </tr>\n",
        "    <tr>\n",
        "      <th>4 </th>\n",
        "      <td> 2006/2007</td>\n",
        "      <td>  115,853,560.803</td>\n",
        "    </tr>\n",
        "    <tr>\n",
        "      <th>5 </th>\n",
        "      <td> 2007/2008</td>\n",
        "      <td>  173,413,724.764</td>\n",
        "    </tr>\n",
        "    <tr>\n",
        "      <th>6 </th>\n",
        "      <td> 2008/2009</td>\n",
        "      <td>  155,950,831.598</td>\n",
        "    </tr>\n",
        "    <tr>\n",
        "      <th>7 </th>\n",
        "      <td> 2009/2010</td>\n",
        "      <td>  165,893,481.413</td>\n",
        "    </tr>\n",
        "    <tr>\n",
        "      <th>8 </th>\n",
        "      <td> 2010/2011</td>\n",
        "      <td>  161,550,352.897</td>\n",
        "    </tr>\n",
        "    <tr>\n",
        "      <th>9 </th>\n",
        "      <td> 2011/2012</td>\n",
        "      <td>  126,595,892.645</td>\n",
        "    </tr>\n",
        "    <tr>\n",
        "      <th>10</th>\n",
        "      <td> 2012/2013</td>\n",
        "      <td>  186,900,292.192</td>\n",
        "    </tr>\n",
        "  </tbody>\n",
        "</table>\n",
        "</div>"
       ],
       "metadata": {},
       "output_type": "pyout",
       "prompt_number": 3,
       "text": [
        "   Financial Year Revenue Amount (in KWD)\n",
        "0       2002/2003         141,631,309.476\n",
        "1       2003/2004         179,723,614.949\n",
        "2       2004/2005        159,1 15,527.803\n",
        "3       2005/2006         146,109,745.447\n",
        "4       2006/2007         115,853,560.803\n",
        "5       2007/2008         173,413,724.764\n",
        "6       2008/2009         155,950,831.598\n",
        "7       2009/2010         165,893,481.413\n",
        "8       2010/2011         161,550,352.897\n",
        "9       2011/2012         126,595,892.645\n",
        "10      2012/2013         186,900,292.192"
       ]
      }
     ],
     "prompt_number": 3
    },
    {
     "cell_type": "code",
     "collapsed": false,
     "input": [
      "df.to_json(jsonpath)"
     ],
     "language": "python",
     "metadata": {},
     "outputs": [],
     "prompt_number": 12
    }
   ],
   "metadata": {}
  }
 ]
}